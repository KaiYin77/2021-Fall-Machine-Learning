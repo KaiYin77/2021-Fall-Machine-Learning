{
  "nbformat": 4,
  "nbformat_minor": 0,
  "metadata": {
    "interpreter": {
      "hash": "b445ccfa557170e9a1397e58540c0ba15a3370c0d87db55f340afe85843e37a4"
    },
    "kernelspec": {
      "display_name": "Python 3",
      "language": "python",
      "name": "python3"
    },
    "language_info": {
      "codemirror_mode": {
        "name": "ipython",
        "version": 3
      },
      "file_extension": ".py",
      "mimetype": "text/x-python",
      "name": "python",
      "nbconvert_exporter": "python",
      "pygments_lexer": "ipython3",
      "version": "3.8.8"
    },
    "colab": {
      "name": "hw1_0710851.ipynb",
      "provenance": [],
      "collapsed_sections": []
    }
  },
  "cells": [
    {
      "cell_type": "code",
      "metadata": {
        "id": "bVEheEreJqAq"
      },
      "source": [
        "import numpy as np\n",
        "import pandas as pd\n",
        "\n",
        "from numpy.linalg import inv\n",
        "\n",
        "# Loading Data_Frame\n",
        "data_x_df = pd.read_csv('data_X.csv')\n",
        "data_t_df = pd.read_csv('data_T.csv')\n",
        "data_df = pd.merge(data_x_df, data_t_df, left_index=True, right_index=True)\n",
        "\n",
        "sizeData = data_df.shape[0]\n",
        "sizeFeature = data_df.shape[1]\n",
        "\n",
        "# Create Dataset\n",
        "rawData = np.array(data_df)\n",
        "\n",
        "# Random Shuffle for Raw Data\n",
        "np.random.shuffle(rawData)\n",
        "\n",
        "# Split Dataset into Train & Validation\n",
        "trainData = rawData[:int(sizeData*90/100)]\n",
        "valData = rawData[int((-sizeData)*10/100):]\n",
        "\n",
        "sizeTrain = trainData.shape[0]\n",
        "sizeVal = valData.shape[0]"
      ],
      "execution_count": null,
      "outputs": []
    },
    {
      "cell_type": "code",
      "metadata": {
        "id": "zjy-1dHeTtN9"
      },
      "source": [
        "\"\"\"\n",
        "Function:\n",
        "- Create Phi(x) for M=1 & M=2\n",
        "\n",
        "Parameters:\n",
        "- train: trainData[:, :-1]\n",
        "\"\"\"\n",
        "def createPhi(train):\n",
        "    len = train.shape[1]\n",
        "    \n",
        "    # M >= 1\n",
        "    phiOne = np.insert(train, 0, values=np.ones(train.shape[0]), axis=1)\n",
        "    \n",
        "    # M >= 2\n",
        "    phiTwo = phiOne\n",
        "    diff = 0\n",
        "    offset = len + 1;\n",
        "    for i in range(len):\n",
        "        for j in range(len):\n",
        "            if i <= j:\n",
        "                offset += 1\n",
        "                phiTwo = np.insert(phiTwo, \n",
        "                                  i*len + j + len + 1 - diff,\n",
        "                                  values = train[:, i]*train[:, j],\n",
        "                                  axis = 1)\n",
        "            else:\n",
        "                diff += 1\n",
        "    # M >= 3\n",
        "    diff = 0\n",
        "    phiThree = phiTwo\n",
        "    for i in range(len):\n",
        "        for j in range(len):\n",
        "            for k in range(len):\n",
        "                if i <= j and j <= k:\n",
        "                    phiThree = np.insert(phiThree,\n",
        "                                        i*len*len + j*len + k + offset - diff,\n",
        "                                        values = train[:, i]*train[:, j]*train[:, k],\n",
        "                                        axis = 1)\n",
        "                else:\n",
        "                    diff += 1\n",
        "\n",
        "    return phiOne, phiTwo, phiThree"
      ],
      "execution_count": null,
      "outputs": []
    },
    {
      "cell_type": "code",
      "metadata": {
        "id": "qJmNXemiyjGv"
      },
      "source": [
        "\"\"\"\n",
        "Function:\n",
        "- Create y(x,w) as Prediction function\n",
        "\n",
        "Parameters:\n",
        "- inputX : trainData[:, :-1]\n",
        "- inputT : trainData[:, -1]\n",
        "\n",
        "Return:\n",
        "- Root Mean Square Value\n",
        "\"\"\"\n",
        "def prediction(inputX, inputT, M, weight):\n",
        "    len = inputX.shape[1] #8\n",
        "    y = np.zeros(inputX.shape[0])\n",
        "    y += weight[0]\n",
        "    \n",
        "    # M >= 1 \n",
        "    for i in range(len):\n",
        "        m1 = np.multiply(inputX[:, i], weight[i+1])\n",
        "        y += m1\n",
        "    \n",
        "    # M >= 2 with interaction terms\n",
        "    offset = len + 1;\n",
        "    if M >= 2:\n",
        "        diff = 0\n",
        "        for i in range(len):\n",
        "            for j in range(len):\n",
        "                if i <= j:\n",
        "                    offset += 1\n",
        "                    m2 = np.multiply(inputX[:, i], inputX[:, j])\n",
        "                    y += np.multiply(m2, weight[i*len + j + len + 1 - diff])\n",
        "                else:\n",
        "                    diff += 1\n",
        "    \n",
        "    # M >= 3 with interaction terms (for (2-b))\n",
        "    if M >= 3:\n",
        "        diff = 0\n",
        "        for i in range(len):\n",
        "          for j in range(len):\n",
        "              for k in range(len):\n",
        "                  if i <= j and j <= k:\n",
        "                      m3 = np.multiply(np.multiply(inputX[:, i], inputX[:, j]), inputX[:, k])\n",
        "                      y += np.multiply(m3, weight[i*len*len + j*len + k + offset - diff])                    \n",
        "                  else:\n",
        "                      diff += 1\n",
        "    \n",
        "    return np.sqrt(np.mean((y - inputT)**2)) "
      ],
      "execution_count": null,
      "outputs": []
    },
    {
      "cell_type": "code",
      "metadata": {
        "id": "pGezVbg_SLaC"
      },
      "source": [
        "# Feature Selection - (a)\n",
        "phiOne, phiTwo, _ = createPhi(trainData[..., :-1])\n",
        "\n",
        "# perform Least Square solution\n",
        "\"\"\"\n",
        "(X.T*X)-1 * X.T * Y\n",
        "\"\"\"\n",
        "weightM1 = np.dot(np.dot(\n",
        "                      np.linalg.pinv(np.dot(phiOne.T, phiOne)),\n",
        "                      phiOne.T\n",
        "                  ),\n",
        "                  trainData[:, -1]) # Target\n",
        "weightM2 = np.dot(np.dot(\n",
        "                      np.linalg.pinv(np.dot(phiTwo.T, phiTwo)),\n",
        "                      phiTwo.T\n",
        "                  ),\n",
        "                  trainData[:, -1]) # Target\n",
        "\n",
        "train_MLE_RMS = [prediction(trainData[..., :-1], trainData[..., -1], 1, weightM1), \n",
        "            prediction(trainData[..., :-1], trainData[..., -1], 2, weightM2)]\n",
        "val_MLE_RMS = [prediction(valData[..., :-1], valData[..., -1], 1, weightM1), \n",
        "            prediction(valData[..., :-1], valData[..., -1], 2, weightM2)]\n"
      ],
      "execution_count": null,
      "outputs": []
    },
    {
      "cell_type": "code",
      "metadata": {
        "colab": {
          "base_uri": "https://localhost:8080/"
        },
        "id": "e8CG79YmU3p9",
        "outputId": "a45e2c22-53c1-4ed1-ac93-7ace0881f7f8"
      },
      "source": [
        "print(\"===Feature Selection - (a)===\\n\")\n",
        "print(\"Weight : \\n\")\n",
        "print(\"M = 1 : \\n\", weightM1)\n",
        "print(\"M = 2 : \\n\", weightM2, '\\n')\n",
        "\n",
        "print(\"Trainning set's RMS result:\")\n",
        "print(\"M = 1  \", train_MLE_RMS[0])\n",
        "print(\"M = 2  \", train_MLE_RMS[1], '\\n')\n",
        "\n",
        "print(\"Valid set's RMS result:\")\n",
        "print(\"M = 1  \", val_MLE_RMS[0])\n",
        "print(\"M = 2  \", val_MLE_RMS[1], '\\n')"
      ],
      "execution_count": null,
      "outputs": [
        {
          "output_type": "stream",
          "name": "stdout",
          "text": [
            "===Feature Selection - (a)===\n",
            "\n",
            "Weight : \n",
            "\n",
            "M = 1 : \n",
            " [-3.59038425e+06 -4.27490817e+04 -4.24587719e+04  1.14458276e+03\n",
            " -8.97466986e+00  1.21289581e+02 -3.70838142e+01  4.05913716e+01\n",
            "  4.05740738e+04]\n",
            "M = 2 : \n",
            " [ 5.84170084e-01 -1.07969190e+02  2.29680500e+01  2.74211861e+01\n",
            " -7.62585815e+02 -5.45923221e+00 -4.97846699e+01  3.15244688e+01\n",
            "  1.33210089e+01  7.70624180e+01  4.76441335e+02 -2.47029109e+01\n",
            " -8.17814970e+00 -3.02303669e+00  1.29117465e+00 -3.57380119e+00\n",
            " -5.77907483e+02  7.16943786e+02 -1.18167019e+02 -7.39491696e+00\n",
            "  1.59214867e+00  6.38893876e+00 -1.99329922e+01 -3.62579950e+02\n",
            "  2.32368726e+01 -5.78737586e-01  2.23877494e+00 -1.68933619e+00\n",
            "  5.70376134e+00  2.83506664e+02 -1.62784095e-03  4.18018943e-02\n",
            " -4.84010368e-03 -3.37399914e-03  7.58279995e+00 -1.90020170e-01\n",
            "  1.42695264e-02  6.66846648e-02 -4.38814142e+01  3.44666963e-03\n",
            " -1.51935879e-02 -7.09171924e+00  1.13700104e-02  2.97212345e+01\n",
            " -2.12956359e+03] \n",
            "\n",
            "Trainning set's RMS result:\n",
            "M = 1   69335.8421124908\n",
            "M = 2   66820.92212048505 \n",
            "\n",
            "Valid set's RMS result:\n",
            "M = 1   71571.57181339637\n",
            "M = 2   68432.64200562023 \n",
            "\n"
          ]
        }
      ]
    },
    {
      "cell_type": "code",
      "metadata": {
        "id": "jqGKu9zINwOZ"
      },
      "source": [
        "# Feature Selection - (b)\n",
        "\n",
        "deleteOneOfFeature = [np.delete(trainData, i, 1) for i in range(trainData.shape[1]-1)]\n",
        "\n",
        "phiOneArray = []\n",
        "for i in range(trainData.shape[1]-1):\n",
        "    _phiOne, _ , _= createPhi(deleteOneOfFeature[i][...,:-1])\n",
        "    phiOneArray.append(_phiOne)\n",
        "\n",
        "weightMLE1Array = []\n",
        "for i in range(trainData.shape[1]-1):\n",
        "    _weightM1 = np.dot(np.dot(\n",
        "                      np.linalg.pinv(np.dot(phiOneArray[i].T, phiOneArray[i])),\n",
        "                      phiOneArray[i].T\n",
        "                  ),\n",
        "                  deleteOneOfFeature[i][..., -1]) # Target\n",
        "    weightMLE1Array.append(_weightM1)          \n",
        "      \n",
        "train_MLE_RMS_Array = []\n",
        "for i in range(trainData.shape[1]-1):\n",
        "    _trainRMS = prediction(deleteOneOfFeature[i][..., :-1], deleteOneOfFeature[i][..., -1], 1, weightMLE1Array[i])\n",
        "    train_MLE_RMS_Array.append(_trainRMS)"
      ],
      "execution_count": null,
      "outputs": []
    },
    {
      "cell_type": "code",
      "metadata": {
        "colab": {
          "base_uri": "https://localhost:8080/"
        },
        "id": "RNT59kVVaYh5",
        "outputId": "8afa0c9b-060c-4298-cec8-dcec1dc0109e"
      },
      "source": [
        "print(\"===Feature Selection - (b)===\\n\")\n",
        "\n",
        "for i in range(len(train_MLE_RMS_Array)):\n",
        "    print(\"Delete No.\", i+1, \"Feature => RMS would be : \",train_MLE_RMS_Array[i])\n",
        "\n",
        "print(\"\\n\\nWe can find that the final RMS is the most,\")\n",
        "print(\"which means without the median_income, the final predict would be the most unreliable.\\n\")\n",
        "print(\"[Median_income] is the most contributive feature!!\")"
      ],
      "execution_count": null,
      "outputs": [
        {
          "output_type": "stream",
          "name": "stdout",
          "text": [
            "===Feature Selection - (b)===\n",
            "\n",
            "Delete No. 1 Feature => RMS would be :  75200.43105183268\n",
            "Delete No. 2 Feature => RMS would be :  75792.25786321914\n",
            "Delete No. 3 Feature => RMS would be :  70513.95787274062\n",
            "Delete No. 4 Feature => RMS would be :  69557.36171825083\n",
            "Delete No. 5 Feature => RMS would be :  69851.35337406957\n",
            "Delete No. 6 Feature => RMS would be :  71374.24408517867\n",
            "Delete No. 7 Feature => RMS would be :  69384.96884794964\n",
            "Delete No. 8 Feature => RMS would be :  90785.19250493227\n",
            "\n",
            "\n",
            "We can find that the final RMS is the most,\n",
            "which means without the median_income, the final predict would be the most unreliable.\n",
            "\n",
            "[Median_income] is the most contributive feature!!\n"
          ]
        }
      ]
    },
    {
      "cell_type": "code",
      "metadata": {
        "colab": {
          "base_uri": "https://localhost:8080/"
        },
        "id": "2zK4s02Y4kur",
        "outputId": "135212e0-6a1c-4bb1-c22a-78276ee9b16a"
      },
      "source": [
        "# Maximum likelihood approach - (a)\n",
        "print(\"===Maximum likelihood approach - (a)===\\n\")\n",
        "print('Choose [Polynomial] as the basis function!!')\n",
        "print('Polynomial models have moderate flexibility of shapes.')\n",
        "print('Polynomial models have well known and understood properties')"
      ],
      "execution_count": null,
      "outputs": [
        {
          "output_type": "stream",
          "name": "stdout",
          "text": [
            "===Maximum likelihood approach - (a)===\n",
            "\n",
            "Choose [Polynomial] as the basis function!!\n",
            "Polynomial models have moderate flexibility of shapes.\n",
            "Polynomial models have well known and understood properties\n"
          ]
        }
      ]
    },
    {
      "cell_type": "code",
      "metadata": {
        "id": "HQ45jyYSwqq1"
      },
      "source": [
        "\"\"\"\n",
        "Function:\n",
        "- Gauss-Jordan \n",
        "\n",
        "Parameters:\n",
        "- matrix\n",
        "\n",
        "Return:\n",
        "- inverse matrix\n",
        "\"\"\"\n",
        "\n",
        "def Gauss_Jordan(M):\n",
        "    # Applying Gauss Jordan Elimination\n",
        "    I = np.eye(M.shape[0])\n",
        "    inv = np.linalg.solve(M, I)\n",
        "    return inv"
      ],
      "execution_count": null,
      "outputs": []
    },
    {
      "cell_type": "code",
      "metadata": {
        "id": "_aHVUxMtbiIt"
      },
      "source": [
        "# Maximum likelihood approach - (b)\n",
        "\n",
        "_, _, phiThree = createPhi(trainData[..., :-1])\n",
        "\n",
        "# perform Least Square solution\n",
        "# \"\"\"\n",
        "# W = (X.T*X)^-1 * X.T * Y\n",
        "# \"\"\"\n",
        "\n",
        "_inv = Gauss_Jordan(np.dot(phiThree.T, phiThree))\n",
        "weightM3 = np.dot(np.dot(\n",
        "                      _inv,\n",
        "                      phiThree.T),\n",
        "                  trainData[:, -1]) # Target\n",
        "\n",
        "_train_MLE_RMS = prediction(trainData[..., :-1], trainData[..., -1], 3, weightM3)\n",
        "_val_MLE_RMS = prediction(valData[..., :-1], valData[..., -1], 3, weightM3)"
      ],
      "execution_count": null,
      "outputs": []
    },
    {
      "cell_type": "code",
      "metadata": {
        "colab": {
          "base_uri": "https://localhost:8080/"
        },
        "id": "mpZrSsZYfxWs",
        "outputId": "94500991-c04f-4398-b044-601ce5bd43c8"
      },
      "source": [
        "# Maximum likelihood approach - (b)\n",
        "print(\"===Maximum likelihood approach - (b)===\\n\")\n",
        "\n",
        "print('As polynomial model become higher degree, the curve may oscillate between exact-fit values.')\n",
        "print('For example below, Setting M = 3 is much more complicated for this case,')\n",
        "print('Since we found that valid set RMS is from the Earth to the Moon which means model is overfitting.\\n')\n",
        "\n",
        "print(\"Trainning set's RMS result:\")\n",
        "print(\"M = 1  \", train_MLE_RMS[0])\n",
        "print(\"M = 2  \", train_MLE_RMS[1])\n",
        "print(\"M = 3  \", _train_MLE_RMS, '\\n')\n",
        "\n",
        "print(\"Valid set's RMS result:\")\n",
        "print(\"M = 1  \", val_MLE_RMS[0])\n",
        "print(\"M = 2  \", val_MLE_RMS[1])\n",
        "print(\"M = 3  \", _val_MLE_RMS, '\\n')\n",
        "\n"
      ],
      "execution_count": null,
      "outputs": [
        {
          "output_type": "stream",
          "name": "stdout",
          "text": [
            "===Maximum likelihood approach - (b)===\n",
            "\n",
            "As polynomial model become higher degree, the curve may oscillate between exact-fit values.\n",
            "For example below, Setting M = 3 is much more complicated for this case,\n",
            "Since we found that valid set RMS is from the Earth to the Moon which means model is overfitting.\n",
            "\n",
            "Trainning set's RMS result:\n",
            "M = 1   69335.8421124908\n",
            "M = 2   66820.92212048505\n",
            "M = 3   58426.87588212439 \n",
            "\n",
            "Valid set's RMS result:\n",
            "M = 1   71571.57181339637\n",
            "M = 2   68432.64200562023\n",
            "M = 3   60339.4505880152 \n",
            "\n"
          ]
        }
      ]
    },
    {
      "cell_type": "code",
      "metadata": {
        "id": "4tSy89qr0xmm"
      },
      "source": [
        "# Maximum likelihood approach - (c)\n",
        "\n",
        "# Apply N-fold cross-validation\n",
        "N_Fold = 100\n",
        "sizeFold = int(trainData.shape[0]/N_Fold)\n",
        "\n",
        "for n in range(N_Fold):\n",
        "    _val = trainData[sizeFold*n:sizeFold*(n+1), :]\n",
        "    _train = np.concatenate((trainData[0:sizeFold*n, :], trainData[sizeFold*(n+1):, :]))\n",
        "\n",
        "    _phiOne, _phiTwo, _ = createPhi(_train[..., :-1])\n",
        "\n",
        "    _wM1 = np.dot(np.dot(\n",
        "                      np.linalg.pinv(np.dot(_phiOne.T, _phiOne)),\n",
        "                     _phiOne.T\n",
        "                  ),\n",
        "                  _train[:, -1]) # Target\n",
        "    _wM2 = np.dot(np.dot(\n",
        "                      np.linalg.pinv(np.dot(_phiTwo.T, _phiTwo)),\n",
        "                      _phiTwo.T\n",
        "                  ),\n",
        "                  _train[:, -1]) # Target\n",
        "    if n==0:\n",
        "        _weightM1 = _wM1\n",
        "        _weightM2 = _wM2\n",
        "    else:\n",
        "        _weightM1 += _wM1\n",
        "        _weightM2 += _wM2\n",
        "    \n",
        "_weightM1 = _weightM1/N_Fold\n",
        "_weightM2 = _weightM2/N_Fold\n",
        "\n",
        "train_MLE_RMS_N_Fold = [prediction(trainData[..., :-1], trainData[..., -1], 1, _weightM1), \n",
        "            prediction(trainData[..., :-1], trainData[..., -1], 2, _weightM2)]\n",
        "val_MLE_RMS_N_Fold = [prediction(valData[..., :-1], valData[..., -1], 1, _weightM1), \n",
        "            prediction(valData[..., :-1], valData[..., -1], 2, _weightM2)]"
      ],
      "execution_count": null,
      "outputs": []
    },
    {
      "cell_type": "code",
      "metadata": {
        "colab": {
          "base_uri": "https://localhost:8080/"
        },
        "id": "cohmhm_n1__A",
        "outputId": "dbb7d2b5-56d8-404e-ad92-e29173d77241"
      },
      "source": [
        "print(\"===Maximum likelihood approach - (c)===\\n\")\n",
        "print('Selecting two different order to compare the behavior of model when performing N-Fold cross validation,')\n",
        "print('We can found when test validation set in M = 2, the RMS tilts up,')\n",
        "print('We can conclude that M = 2 may be too much complex for this scenario,')\n",
        "print('Since its RMS perform like overfitting,')\n",
        "\n",
        "print(\"Trainning set's RMS result with N-fold cross-validation:\")\n",
        "print(\"M = 1  \", train_MLE_RMS_N_Fold[0])\n",
        "print(\"M = 2  \", train_MLE_RMS_N_Fold[1], '\\n')\n",
        "\n",
        "print(\"Valid set's RMS result with N-fold cross-validation:\")\n",
        "print(\"M = 1  \", val_MLE_RMS_N_Fold[0])\n",
        "print(\"M = 2  \", val_MLE_RMS_N_Fold[1], '\\n')"
      ],
      "execution_count": null,
      "outputs": [
        {
          "output_type": "stream",
          "name": "stdout",
          "text": [
            "===Maximum likelihood approach - (c)===\n",
            "\n",
            "Selecting two different order to compare the behavior of model when performing N-Fold cross validation,\n",
            "We can found when test validation set in M = 2, the RMS tilts up,\n",
            "We can conclude that M = 2 may be too much complex for this scenario,\n",
            "Since its RMS perform like overfitting,\n",
            "Trainning set's RMS result with N-fold cross-validation:\n",
            "M = 1   69335.8422335709\n",
            "M = 2   66816.06577776057 \n",
            "\n",
            "Valid set's RMS result with N-fold cross-validation:\n",
            "M = 1   71571.30118693618\n",
            "M = 2   68421.48684488663 \n",
            "\n"
          ]
        }
      ]
    },
    {
      "cell_type": "code",
      "metadata": {
        "colab": {
          "base_uri": "https://localhost:8080/"
        },
        "id": "1_9cfKpu-8AK",
        "outputId": "1bdaacaa-e875-4f0c-a047-775be03d35bf"
      },
      "source": [
        "# Maximum A Posterior - (a)\n",
        "print(\"===Maximum a  Posterior approach - (a)===\\n\")\n",
        "print('The key difference between MLP & MAP approach:')\n",
        "print('If we have prior information, then MAP approach is the way.')\n",
        "print('Since MLE produces model params. most likely to generate the observed data.')\n",
        "print('While if no such prior probalilty, then MLE is a reasonable approach.')\n",
        "print('Since MAP is the model params that is most likely given the observed data.')"
      ],
      "execution_count": null,
      "outputs": [
        {
          "output_type": "stream",
          "name": "stdout",
          "text": [
            "===Maximum a  Posterior approach - (a)===\n",
            "\n",
            "The key difference between MLP & MAP approach:\n",
            "If we have prior information, then MAP approach is the way.\n",
            "Since MLE produces model params. most likely to generate the observed data.\n",
            "While if no such prior probalilty, then MLE is a reasonable approach.\n",
            "Since MAP is the model params that is most likely given the observed data.\n"
          ]
        }
      ]
    },
    {
      "cell_type": "code",
      "metadata": {
        "id": "8iTO3Bqx-Zym"
      },
      "source": [
        "# Maximum A Posterior - (b)\n",
        "\n",
        "# Apply a regularizer to (2), the approach will be MAP estimation.\n",
        "\n",
        "N_Fold = 100\n",
        "sizeFold = int(trainData.shape[0]/N_Fold)\n",
        "paramLambda = 0.1\n",
        "\n",
        "for n in range(N_Fold):\n",
        "    _val = trainData[sizeFold*n:sizeFold*(n+1), :]\n",
        "    _train = np.concatenate((trainData[0:sizeFold*n, :], trainData[sizeFold*(n+1):, :]))\n",
        "\n",
        "    # perform Least Square solution\n",
        "    # \"\"\"\n",
        "    # W = (lambdaI+ X.T*X)^-1 * X.T * Y\n",
        "    # \"\"\" \n",
        "    _phiOne, _phiTwo, _ = createPhi(_train[..., :-1])\n",
        "\n",
        "    _wMAP1 = np.dot(np.dot(\n",
        "                      np.linalg.pinv((paramLambda* np.eye(_phiOne.shape[1]) + np.dot(_phiOne.T, _phiOne))),\n",
        "                     _phiOne.T\n",
        "                  ),\n",
        "                  _train[:, -1]) # Target\n",
        "    _wMAP2 = np.dot(np.dot(\n",
        "                      np.linalg.pinv((paramLambda* np.eye(_phiTwo.shape[1]) + np.dot(_phiTwo.T, _phiTwo))),\n",
        "                      _phiTwo.T\n",
        "                  ),\n",
        "                  _train[:, -1]) # Target\n",
        "    if n==0:\n",
        "        _weightMAP1 = _wMAP1\n",
        "        _weightMAP2 = _wMAP2\n",
        "    else:\n",
        "        _weightMAP1 += _wMAP1\n",
        "        _weightMAP2 += _wMAP2\n",
        "    \n",
        "_weightMAP1 = _weightMAP1/N_Fold\n",
        "_weightMAP2 = _weightMAP2/N_Fold\n",
        "\n",
        "train_MAP_RMS_N_Fold = [prediction(trainData[..., :-1], trainData[..., -1], 1, _weightMAP1), \n",
        "            prediction(trainData[..., :-1], trainData[..., -1], 2, _weightMAP2)]\n",
        "val_MAP_RMS_N_Fold = [prediction(valData[..., :-1], valData[..., -1], 1, _weightMAP1), \n",
        "            prediction(valData[..., :-1], valData[..., -1], 2, _weightMAP2)]"
      ],
      "execution_count": null,
      "outputs": []
    },
    {
      "cell_type": "code",
      "metadata": {
        "colab": {
          "base_uri": "https://localhost:8080/"
        },
        "id": "DG-E07cZGwjL",
        "outputId": "27ae23d5-d4a7-40e5-b050-237a206c15f0"
      },
      "source": [
        "print(\"===Maximum a  Posterior approach - (b)===\\n\")\n",
        "\n",
        "print(\"Trainning set's RMS result with N-fold cross-validation:\")\n",
        "print(\"M = 1  \", train_MAP_RMS_N_Fold[0])\n",
        "print(\"M = 2  \", train_MAP_RMS_N_Fold[1], '\\n')\n",
        "\n",
        "print(\"Valid set's RMS result with N-fold cross-validation:\")\n",
        "print(\"M = 1  \", val_MAP_RMS_N_Fold[0])\n",
        "print(\"M = 2  \", val_MAP_RMS_N_Fold[1], '\\n')"
      ],
      "execution_count": null,
      "outputs": [
        {
          "output_type": "stream",
          "name": "stdout",
          "text": [
            "===Maximum a  Posterior approach - (b)===\n",
            "\n",
            "Trainning set's RMS result with N-fold cross-validation:\n",
            "M = 1   69374.94492799495\n",
            "M = 2   66816.06808266955 \n",
            "\n",
            "Valid set's RMS result with N-fold cross-validation:\n",
            "M = 1   71592.30905659722\n",
            "M = 2   68421.4861225131 \n",
            "\n"
          ]
        }
      ]
    },
    {
      "cell_type": "code",
      "metadata": {
        "colab": {
          "base_uri": "https://localhost:8080/"
        },
        "id": "r6kagc3XCXne",
        "outputId": "452c57e7-16af-4df3-ce04-3e5731bd8585"
      },
      "source": [
        "print(\"===Maximum a  Posterior approach - (c)===\\n\")\n",
        "print('The approach difference is presented above.')\n",
        "print(\"But compare with MLE result, show quite similar.\")\n",
        "\n"
      ],
      "execution_count": null,
      "outputs": [
        {
          "output_type": "stream",
          "name": "stdout",
          "text": [
            "===Maximum a  Posterior approach - (c)===\n",
            "\n",
            "The approach difference is presented above.\n",
            "But compare with MLE result, show quite similar.\n"
          ]
        }
      ]
    }
  ]
}